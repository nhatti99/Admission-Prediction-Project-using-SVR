{
 "cells": [
  {
   "cell_type": "code",
   "execution_count": 1,
   "id": "93e46e5b",
   "metadata": {
    "_cell_guid": "b1076dfc-b9ad-4769-8c92-a6c4dae69d19",
    "_uuid": "8f2839f25d086af736a60e9eeb907d3b93b6e0e5",
    "execution": {
     "iopub.execute_input": "2022-09-16T17:48:11.600927Z",
     "iopub.status.busy": "2022-09-16T17:48:11.600448Z",
     "iopub.status.idle": "2022-09-16T17:48:11.620894Z",
     "shell.execute_reply": "2022-09-16T17:48:11.620022Z"
    },
    "papermill": {
     "duration": 0.029562,
     "end_time": "2022-09-16T17:48:11.623517",
     "exception": false,
     "start_time": "2022-09-16T17:48:11.593955",
     "status": "completed"
    },
    "tags": []
   },
   "outputs": [
    {
     "name": "stdout",
     "output_type": "stream",
     "text": [
      "/kaggle/input/graduates-admission-prediction/admission_data.csv\n"
     ]
    }
   ],
   "source": [
    "# This Python 3 environment comes with many helpful analytics libraries installed\n",
    "# It is defined by the kaggle/python Docker image: https://github.com/kaggle/docker-python\n",
    "# For example, here's several helpful packages to load\n",
    "\n",
    "import numpy as np # linear algebra\n",
    "import pandas as pd # data processing, CSV file I/O (e.g. pd.read_csv)\n",
    "\n",
    "# Input data files are available in the read-only \"../input/\" directory\n",
    "# For example, running this (by clicking run or pressing Shift+Enter) will list all files under the input directory\n",
    "\n",
    "import os\n",
    "for dirname, _, filenames in os.walk('/kaggle/input'):\n",
    "    for filename in filenames:\n",
    "        print(os.path.join(dirname, filename))\n",
    "\n",
    "# You can write up to 20GB to the current directory (/kaggle/working/) that gets preserved as output when you create a version using \"Save & Run All\" \n",
    "# You can also write temporary files to /kaggle/temp/, but they won't be saved outside of the current session"
   ]
  },
  {
   "cell_type": "code",
   "execution_count": 2,
   "id": "01a5b9a1",
   "metadata": {
    "execution": {
     "iopub.execute_input": "2022-09-16T17:48:11.634502Z",
     "iopub.status.busy": "2022-09-16T17:48:11.633923Z",
     "iopub.status.idle": "2022-09-16T17:48:14.679956Z",
     "shell.execute_reply": "2022-09-16T17:48:14.678587Z"
    },
    "papermill": {
     "duration": 3.054436,
     "end_time": "2022-09-16T17:48:14.682393",
     "exception": false,
     "start_time": "2022-09-16T17:48:11.627957",
     "status": "completed"
    },
    "tags": []
   },
   "outputs": [],
   "source": [
    "from sklearn.model_selection import train_test_split, GridSearchCV\n",
    "from sklearn.metrics import accuracy_score, confusion_matrix, roc_auc_score, roc_curve\n",
    "from pandas_profiling import ProfileReport\n",
    "from sklearn.neighbors import KNeighborsClassifier\n",
    "from sklearn.preprocessing import StandardScaler"
   ]
  },
  {
   "cell_type": "code",
   "execution_count": 3,
   "id": "94ffbbb5",
   "metadata": {
    "execution": {
     "iopub.execute_input": "2022-09-16T17:48:14.692360Z",
     "iopub.status.busy": "2022-09-16T17:48:14.692043Z",
     "iopub.status.idle": "2022-09-16T17:48:14.713522Z",
     "shell.execute_reply": "2022-09-16T17:48:14.712210Z"
    },
    "papermill": {
     "duration": 0.029358,
     "end_time": "2022-09-16T17:48:14.715987",
     "exception": false,
     "start_time": "2022-09-16T17:48:14.686629",
     "status": "completed"
    },
    "tags": []
   },
   "outputs": [],
   "source": [
    "df = pd.read_csv('../input/graduates-admission-prediction/admission_data.csv')"
   ]
  },
  {
   "cell_type": "code",
   "execution_count": 4,
   "id": "3c2549ce",
   "metadata": {
    "execution": {
     "iopub.execute_input": "2022-09-16T17:48:14.726460Z",
     "iopub.status.busy": "2022-09-16T17:48:14.725971Z",
     "iopub.status.idle": "2022-09-16T17:48:14.746927Z",
     "shell.execute_reply": "2022-09-16T17:48:14.746225Z"
    },
    "papermill": {
     "duration": 0.028514,
     "end_time": "2022-09-16T17:48:14.748815",
     "exception": false,
     "start_time": "2022-09-16T17:48:14.720301",
     "status": "completed"
    },
    "tags": []
   },
   "outputs": [
    {
     "data": {
      "text/html": [
       "<div>\n",
       "<style scoped>\n",
       "    .dataframe tbody tr th:only-of-type {\n",
       "        vertical-align: middle;\n",
       "    }\n",
       "\n",
       "    .dataframe tbody tr th {\n",
       "        vertical-align: top;\n",
       "    }\n",
       "\n",
       "    .dataframe thead th {\n",
       "        text-align: right;\n",
       "    }\n",
       "</style>\n",
       "<table border=\"1\" class=\"dataframe\">\n",
       "  <thead>\n",
       "    <tr style=\"text-align: right;\">\n",
       "      <th></th>\n",
       "      <th>GRE Score</th>\n",
       "      <th>TOEFL Score</th>\n",
       "      <th>University Rating</th>\n",
       "      <th>SOP</th>\n",
       "      <th>LOR</th>\n",
       "      <th>CGPA</th>\n",
       "      <th>Research</th>\n",
       "      <th>Chance of Admit</th>\n",
       "    </tr>\n",
       "  </thead>\n",
       "  <tbody>\n",
       "    <tr>\n",
       "      <th>0</th>\n",
       "      <td>337</td>\n",
       "      <td>118</td>\n",
       "      <td>4</td>\n",
       "      <td>4.5</td>\n",
       "      <td>4.5</td>\n",
       "      <td>9.65</td>\n",
       "      <td>1</td>\n",
       "      <td>0.92</td>\n",
       "    </tr>\n",
       "    <tr>\n",
       "      <th>1</th>\n",
       "      <td>324</td>\n",
       "      <td>107</td>\n",
       "      <td>4</td>\n",
       "      <td>4.0</td>\n",
       "      <td>4.5</td>\n",
       "      <td>8.87</td>\n",
       "      <td>1</td>\n",
       "      <td>0.76</td>\n",
       "    </tr>\n",
       "    <tr>\n",
       "      <th>2</th>\n",
       "      <td>316</td>\n",
       "      <td>104</td>\n",
       "      <td>3</td>\n",
       "      <td>3.0</td>\n",
       "      <td>3.5</td>\n",
       "      <td>8.00</td>\n",
       "      <td>1</td>\n",
       "      <td>0.72</td>\n",
       "    </tr>\n",
       "    <tr>\n",
       "      <th>3</th>\n",
       "      <td>322</td>\n",
       "      <td>110</td>\n",
       "      <td>3</td>\n",
       "      <td>3.5</td>\n",
       "      <td>2.5</td>\n",
       "      <td>8.67</td>\n",
       "      <td>1</td>\n",
       "      <td>0.80</td>\n",
       "    </tr>\n",
       "    <tr>\n",
       "      <th>4</th>\n",
       "      <td>314</td>\n",
       "      <td>103</td>\n",
       "      <td>2</td>\n",
       "      <td>2.0</td>\n",
       "      <td>3.0</td>\n",
       "      <td>8.21</td>\n",
       "      <td>0</td>\n",
       "      <td>0.65</td>\n",
       "    </tr>\n",
       "  </tbody>\n",
       "</table>\n",
       "</div>"
      ],
      "text/plain": [
       "   GRE Score  TOEFL Score  University Rating  SOP  LOR   CGPA  Research  \\\n",
       "0        337          118                  4  4.5   4.5  9.65         1   \n",
       "1        324          107                  4  4.0   4.5  8.87         1   \n",
       "2        316          104                  3  3.0   3.5  8.00         1   \n",
       "3        322          110                  3  3.5   2.5  8.67         1   \n",
       "4        314          103                  2  2.0   3.0  8.21         0   \n",
       "\n",
       "   Chance of Admit   \n",
       "0              0.92  \n",
       "1              0.76  \n",
       "2              0.72  \n",
       "3              0.80  \n",
       "4              0.65  "
      ]
     },
     "execution_count": 4,
     "metadata": {},
     "output_type": "execute_result"
    }
   ],
   "source": [
    "df.head()"
   ]
  },
  {
   "cell_type": "code",
   "execution_count": 5,
   "id": "878a8cdc",
   "metadata": {
    "execution": {
     "iopub.execute_input": "2022-09-16T17:48:14.759361Z",
     "iopub.status.busy": "2022-09-16T17:48:14.758981Z",
     "iopub.status.idle": "2022-09-16T17:48:14.765344Z",
     "shell.execute_reply": "2022-09-16T17:48:14.764706Z"
    },
    "papermill": {
     "duration": 0.014376,
     "end_time": "2022-09-16T17:48:14.767769",
     "exception": false,
     "start_time": "2022-09-16T17:48:14.753393",
     "status": "completed"
    },
    "tags": []
   },
   "outputs": [
    {
     "data": {
      "text/plain": [
       "(500, 8)"
      ]
     },
     "execution_count": 5,
     "metadata": {},
     "output_type": "execute_result"
    }
   ],
   "source": [
    "df.shape"
   ]
  },
  {
   "cell_type": "code",
   "execution_count": 6,
   "id": "ca8c730a",
   "metadata": {
    "execution": {
     "iopub.execute_input": "2022-09-16T17:48:14.778637Z",
     "iopub.status.busy": "2022-09-16T17:48:14.778303Z",
     "iopub.status.idle": "2022-09-16T17:48:14.786053Z",
     "shell.execute_reply": "2022-09-16T17:48:14.784669Z"
    },
    "papermill": {
     "duration": 0.016033,
     "end_time": "2022-09-16T17:48:14.788477",
     "exception": false,
     "start_time": "2022-09-16T17:48:14.772444",
     "status": "completed"
    },
    "tags": []
   },
   "outputs": [
    {
     "data": {
      "text/plain": [
       "GRE Score            0\n",
       "TOEFL Score          0\n",
       "University Rating    0\n",
       "SOP                  0\n",
       "LOR                  0\n",
       "CGPA                 0\n",
       "Research             0\n",
       "Chance of Admit      0\n",
       "dtype: int64"
      ]
     },
     "execution_count": 6,
     "metadata": {},
     "output_type": "execute_result"
    }
   ],
   "source": [
    "df.isnull().sum()"
   ]
  },
  {
   "cell_type": "code",
   "execution_count": 7,
   "id": "64af1be8",
   "metadata": {
    "execution": {
     "iopub.execute_input": "2022-09-16T17:48:14.799044Z",
     "iopub.status.busy": "2022-09-16T17:48:14.798720Z",
     "iopub.status.idle": "2022-09-16T17:48:14.810400Z",
     "shell.execute_reply": "2022-09-16T17:48:14.809010Z"
    },
    "papermill": {
     "duration": 0.019074,
     "end_time": "2022-09-16T17:48:14.812210",
     "exception": false,
     "start_time": "2022-09-16T17:48:14.793136",
     "status": "completed"
    },
    "tags": []
   },
   "outputs": [],
   "source": [
    "x = df.drop(['Chance of Admit '], axis=1)"
   ]
  },
  {
   "cell_type": "code",
   "execution_count": 8,
   "id": "e44b4382",
   "metadata": {
    "execution": {
     "iopub.execute_input": "2022-09-16T17:48:14.823338Z",
     "iopub.status.busy": "2022-09-16T17:48:14.823023Z",
     "iopub.status.idle": "2022-09-16T17:48:14.829128Z",
     "shell.execute_reply": "2022-09-16T17:48:14.828206Z"
    },
    "papermill": {
     "duration": 0.014111,
     "end_time": "2022-09-16T17:48:14.830570",
     "exception": false,
     "start_time": "2022-09-16T17:48:14.816459",
     "status": "completed"
    },
    "tags": []
   },
   "outputs": [],
   "source": [
    "y = df['Chance of Admit ']"
   ]
  },
  {
   "cell_type": "code",
   "execution_count": 9,
   "id": "755e59cc",
   "metadata": {
    "execution": {
     "iopub.execute_input": "2022-09-16T17:48:14.841487Z",
     "iopub.status.busy": "2022-09-16T17:48:14.840964Z",
     "iopub.status.idle": "2022-09-16T17:48:14.846595Z",
     "shell.execute_reply": "2022-09-16T17:48:14.845654Z"
    },
    "papermill": {
     "duration": 0.013843,
     "end_time": "2022-09-16T17:48:14.848711",
     "exception": false,
     "start_time": "2022-09-16T17:48:14.834868",
     "status": "completed"
    },
    "tags": []
   },
   "outputs": [],
   "source": [
    "x_train, x_test, y_train, y_test = train_test_split(x, y, random_state=30, test_size=.20)"
   ]
  },
  {
   "cell_type": "code",
   "execution_count": 10,
   "id": "06a9dae4",
   "metadata": {
    "execution": {
     "iopub.execute_input": "2022-09-16T17:48:14.859477Z",
     "iopub.status.busy": "2022-09-16T17:48:14.858988Z",
     "iopub.status.idle": "2022-09-16T17:48:14.862201Z",
     "shell.execute_reply": "2022-09-16T17:48:14.861704Z"
    },
    "papermill": {
     "duration": 0.01045,
     "end_time": "2022-09-16T17:48:14.863782",
     "exception": false,
     "start_time": "2022-09-16T17:48:14.853332",
     "status": "completed"
    },
    "tags": []
   },
   "outputs": [],
   "source": [
    "from sklearn.svm import SVR"
   ]
  },
  {
   "cell_type": "code",
   "execution_count": 11,
   "id": "462f1289",
   "metadata": {
    "execution": {
     "iopub.execute_input": "2022-09-16T17:48:14.874614Z",
     "iopub.status.busy": "2022-09-16T17:48:14.874116Z",
     "iopub.status.idle": "2022-09-16T17:48:14.877720Z",
     "shell.execute_reply": "2022-09-16T17:48:14.876763Z"
    },
    "papermill": {
     "duration": 0.010886,
     "end_time": "2022-09-16T17:48:14.879295",
     "exception": false,
     "start_time": "2022-09-16T17:48:14.868409",
     "status": "completed"
    },
    "tags": []
   },
   "outputs": [],
   "source": [
    "svr = SVR()"
   ]
  },
  {
   "cell_type": "code",
   "execution_count": 12,
   "id": "d4c5f869",
   "metadata": {
    "execution": {
     "iopub.execute_input": "2022-09-16T17:48:14.889898Z",
     "iopub.status.busy": "2022-09-16T17:48:14.889419Z",
     "iopub.status.idle": "2022-09-16T17:48:14.902893Z",
     "shell.execute_reply": "2022-09-16T17:48:14.901264Z"
    },
    "papermill": {
     "duration": 0.020671,
     "end_time": "2022-09-16T17:48:14.904562",
     "exception": false,
     "start_time": "2022-09-16T17:48:14.883891",
     "status": "completed"
    },
    "tags": []
   },
   "outputs": [
    {
     "data": {
      "text/plain": [
       "SVR()"
      ]
     },
     "execution_count": 12,
     "metadata": {},
     "output_type": "execute_result"
    }
   ],
   "source": [
    "svr.fit(x_train, y_train)"
   ]
  },
  {
   "cell_type": "code",
   "execution_count": 13,
   "id": "5b658315",
   "metadata": {
    "execution": {
     "iopub.execute_input": "2022-09-16T17:48:14.915337Z",
     "iopub.status.busy": "2022-09-16T17:48:14.914825Z",
     "iopub.status.idle": "2022-09-16T17:48:14.918346Z",
     "shell.execute_reply": "2022-09-16T17:48:14.917712Z"
    },
    "papermill": {
     "duration": 0.010908,
     "end_time": "2022-09-16T17:48:14.919883",
     "exception": false,
     "start_time": "2022-09-16T17:48:14.908975",
     "status": "completed"
    },
    "tags": []
   },
   "outputs": [],
   "source": [
    "from sklearn.metrics import r2_score"
   ]
  },
  {
   "cell_type": "code",
   "execution_count": 14,
   "id": "00637b30",
   "metadata": {
    "execution": {
     "iopub.execute_input": "2022-09-16T17:48:14.930432Z",
     "iopub.status.busy": "2022-09-16T17:48:14.929984Z",
     "iopub.status.idle": "2022-09-16T17:48:14.937397Z",
     "shell.execute_reply": "2022-09-16T17:48:14.936485Z"
    },
    "papermill": {
     "duration": 0.014904,
     "end_time": "2022-09-16T17:48:14.939364",
     "exception": false,
     "start_time": "2022-09-16T17:48:14.924460",
     "status": "completed"
    },
    "tags": []
   },
   "outputs": [
    {
     "data": {
      "text/plain": [
       "0.685117659118474"
      ]
     },
     "execution_count": 14,
     "metadata": {},
     "output_type": "execute_result"
    }
   ],
   "source": [
    "r2_score(y_test, svr.predict(x_test))"
   ]
  },
  {
   "cell_type": "code",
   "execution_count": 15,
   "id": "ee52bf3d",
   "metadata": {
    "execution": {
     "iopub.execute_input": "2022-09-16T17:48:14.951457Z",
     "iopub.status.busy": "2022-09-16T17:48:14.951133Z",
     "iopub.status.idle": "2022-09-16T17:48:14.960968Z",
     "shell.execute_reply": "2022-09-16T17:48:14.959344Z"
    },
    "papermill": {
     "duration": 0.019005,
     "end_time": "2022-09-16T17:48:14.962989",
     "exception": false,
     "start_time": "2022-09-16T17:48:14.943984",
     "status": "completed"
    },
    "tags": []
   },
   "outputs": [
    {
     "name": "stderr",
     "output_type": "stream",
     "text": [
      "/opt/conda/lib/python3.7/site-packages/sklearn/base.py:451: UserWarning: X does not have valid feature names, but SVR was fitted with feature names\n",
      "  \"X does not have valid feature names, but\"\n"
     ]
    },
    {
     "data": {
      "text/plain": [
       "array([0.88845842])"
      ]
     },
     "execution_count": 15,
     "metadata": {},
     "output_type": "execute_result"
    }
   ],
   "source": [
    "svr.predict([x.iloc[0]])"
   ]
  },
  {
   "cell_type": "code",
   "execution_count": 16,
   "id": "e639db8a",
   "metadata": {
    "execution": {
     "iopub.execute_input": "2022-09-16T17:48:14.975849Z",
     "iopub.status.busy": "2022-09-16T17:48:14.974146Z",
     "iopub.status.idle": "2022-09-16T17:48:14.981711Z",
     "shell.execute_reply": "2022-09-16T17:48:14.980730Z"
    },
    "papermill": {
     "duration": 0.015766,
     "end_time": "2022-09-16T17:48:14.983975",
     "exception": false,
     "start_time": "2022-09-16T17:48:14.968209",
     "status": "completed"
    },
    "tags": []
   },
   "outputs": [
    {
     "data": {
      "text/plain": [
       "0.92"
      ]
     },
     "execution_count": 16,
     "metadata": {},
     "output_type": "execute_result"
    }
   ],
   "source": [
    "y[0]"
   ]
  },
  {
   "cell_type": "code",
   "execution_count": 17,
   "id": "649114d4",
   "metadata": {
    "execution": {
     "iopub.execute_input": "2022-09-16T17:48:14.996101Z",
     "iopub.status.busy": "2022-09-16T17:48:14.995755Z",
     "iopub.status.idle": "2022-09-16T17:48:15.004273Z",
     "shell.execute_reply": "2022-09-16T17:48:15.003611Z"
    },
    "papermill": {
     "duration": 0.016599,
     "end_time": "2022-09-16T17:48:15.005872",
     "exception": false,
     "start_time": "2022-09-16T17:48:14.989273",
     "status": "completed"
    },
    "tags": []
   },
   "outputs": [
    {
     "data": {
      "text/plain": [
       "0.685117659118474"
      ]
     },
     "execution_count": 17,
     "metadata": {},
     "output_type": "execute_result"
    }
   ],
   "source": [
    "svr.score(x_test, y_test)"
   ]
  },
  {
   "cell_type": "code",
   "execution_count": null,
   "id": "24c80682",
   "metadata": {
    "papermill": {
     "duration": 0.004764,
     "end_time": "2022-09-16T17:48:15.015896",
     "exception": false,
     "start_time": "2022-09-16T17:48:15.011132",
     "status": "completed"
    },
    "tags": []
   },
   "outputs": [],
   "source": []
  }
 ],
 "metadata": {
  "kernelspec": {
   "display_name": "Python 3",
   "language": "python",
   "name": "python3"
  },
  "language_info": {
   "codemirror_mode": {
    "name": "ipython",
    "version": 3
   },
   "file_extension": ".py",
   "mimetype": "text/x-python",
   "name": "python",
   "nbconvert_exporter": "python",
   "pygments_lexer": "ipython3",
   "version": "3.7.12"
  },
  "papermill": {
   "default_parameters": {},
   "duration": 12.492487,
   "end_time": "2022-09-16T17:48:15.840811",
   "environment_variables": {},
   "exception": null,
   "input_path": "__notebook__.ipynb",
   "output_path": "__notebook__.ipynb",
   "parameters": {},
   "start_time": "2022-09-16T17:48:03.348324",
   "version": "2.3.4"
  }
 },
 "nbformat": 4,
 "nbformat_minor": 5
}
